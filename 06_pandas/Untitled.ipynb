{
 "cells": [
  {
   "cell_type": "code",
   "execution_count": 1,
   "metadata": {
    "collapsed": true
   },
   "outputs": [],
   "source": [
    "\n",
    "\n",
    "import pandas as pd\n",
    "from matplotlib import pyplot as plt\n",
    "plt.style.use('ggplot')\n",
    "%matplotlib inline\n",
    "diamonds = pd.read_csv('diamonds.csv',index_col=0)"
   ]
  },
  {
   "cell_type": "code",
   "execution_count": 11,
   "metadata": {
    "collapsed": false
   },
   "outputs": [
    {
     "data": {
      "text/html": [
       "<div style=\"max-height:1000px;max-width:1500px;overflow:auto;\">\n",
       "<table border=\"1\" class=\"dataframe\">\n",
       "  <thead>\n",
       "    <tr style=\"text-align: right;\">\n",
       "      <th></th>\n",
       "      <th>carat</th>\n",
       "      <th>cut</th>\n",
       "      <th>color</th>\n",
       "      <th>clarity</th>\n",
       "      <th>depth</th>\n",
       "      <th>table</th>\n",
       "      <th>price</th>\n",
       "      <th>x</th>\n",
       "      <th>y</th>\n",
       "      <th>z</th>\n",
       "    </tr>\n",
       "  </thead>\n",
       "  <tbody>\n",
       "    <tr>\n",
       "      <th>1</th>\n",
       "      <td> 0.23</td>\n",
       "      <td> Ideal</td>\n",
       "      <td> E</td>\n",
       "      <td> SI2</td>\n",
       "      <td> 61.5</td>\n",
       "      <td> 55</td>\n",
       "      <td> 326</td>\n",
       "      <td> 3.95</td>\n",
       "      <td> 3.98</td>\n",
       "      <td> 2.43</td>\n",
       "    </tr>\n",
       "  </tbody>\n",
       "</table>\n",
       "</div>"
      ],
      "text/plain": [
       "   carat    cut color clarity  depth  table  price     x     y     z\n",
       "1   0.23  Ideal     E     SI2   61.5     55    326  3.95  3.98  2.43"
      ]
     },
     "execution_count": 11,
     "metadata": {},
     "output_type": "execute_result"
    }
   ],
   "source": [
    "diamonds.iloc[0:1,:]\n",
    "\n"
   ]
  },
  {
   "cell_type": "code",
   "execution_count": 22,
   "metadata": {
    "collapsed": false
   },
   "outputs": [
    {
     "data": {
      "text/html": [
       "<div style=\"max-height:1000px;max-width:1500px;overflow:auto;\">\n",
       "<table border=\"1\" class=\"dataframe\">\n",
       "  <thead>\n",
       "    <tr style=\"text-align: right;\">\n",
       "      <th></th>\n",
       "      <th>carat</th>\n",
       "      <th>cut</th>\n",
       "      <th>color</th>\n",
       "      <th>clarity</th>\n",
       "      <th>depth</th>\n",
       "      <th>table</th>\n",
       "      <th>price</th>\n",
       "      <th>x</th>\n",
       "      <th>y</th>\n",
       "      <th>z</th>\n",
       "    </tr>\n",
       "  </thead>\n",
       "  <tbody>\n",
       "    <tr>\n",
       "      <th>26445</th>\n",
       "      <td> 4</td>\n",
       "      <td> Very Good</td>\n",
       "      <td> I</td>\n",
       "      <td> I1</td>\n",
       "      <td> 63.3</td>\n",
       "      <td> 58</td>\n",
       "      <td> 15984</td>\n",
       "      <td> 10.01</td>\n",
       "      <td> 9.94</td>\n",
       "      <td> 6.31</td>\n",
       "    </tr>\n",
       "  </tbody>\n",
       "</table>\n",
       "</div>"
      ],
      "text/plain": [
       "       carat        cut color clarity  depth  table  price      x     y     z\n",
       "26445      4  Very Good     I      I1   63.3     58  15984  10.01  9.94  6.31"
      ]
     },
     "execution_count": 22,
     "metadata": {},
     "output_type": "execute_result"
    }
   ],
   "source": [
    "diamonds[ diamonds[\"carat\"].isin([4, 6]) ]\n"
   ]
  },
  {
   "cell_type": "code",
   "execution_count": 61,
   "metadata": {
    "collapsed": false
   },
   "outputs": [],
   "source": [
    "a=diamonds[diamonds.iloc[:,0]>2]"
   ]
  },
  {
   "cell_type": "code",
   "execution_count": 63,
   "metadata": {
    "collapsed": false
   },
   "outputs": [
    {
     "data": {
      "text/plain": [
       "<matplotlib.axes._subplots.AxesSubplot at 0x7fa88224a210>"
      ]
     },
     "execution_count": 63,
     "metadata": {},
     "output_type": "execute_result"
    },
    {
     "data": {
      "image/png": "[encoded data removed]",
      "text/plain": [
       "<matplotlib.figure.Figure at 0x7fa8828797d0>"
      ]
     },
     "metadata": {},
     "output_type": "display_data"
    }
   ],
   "source": [
    "a['carat'].plot(kind=\"hist\")\n",
    "#a.plot(kind=\"hist\")"
   ]
  },
  {
   "cell_type": "code",
   "execution_count": 91,
   "metadata": {
    "collapsed": false
   },
   "outputs": [
    {
     "data": {
      "text/plain": [
       "<matplotlib.axes._subplots.AxesSubplot at 0x7fa882124310>"
      ]
     },
     "execution_count": 91,
     "metadata": {},
     "output_type": "execute_result"
    },
    {
     "data": {
      "image/png": "[encoded data removed]",
      "text/plain": [
       "<matplotlib.figure.Figure at 0x7fa8823d5590>"
      ]
     },
     "metadata": {},
     "output_type": "display_data"
    }
   ],
   "source": [
    "diamonds.groupby(\"cut\").std().ix[:,'x'].plot()\n"
   ]
  },
  {
   "cell_type": "code",
   "execution_count": 75,
   "metadata": {
    "collapsed": false
   },
   "outputs": [
    {
     "data": {
      "text/plain": [
       "pandas.core.frame.DataFrame"
      ]
     },
     "execution_count": 75,
     "metadata": {},
     "output_type": "execute_result"
    }
   ],
   "source": [
    "diamonds.groupby(\"cut\").std()\n"
   ]
  },
  {
   "cell_type": "code",
   "execution_count": 117,
   "metadata": {
    "collapsed": true
   },
   "outputs": [],
   "source": [
    "demo = pd.read_excel('demo.cae4',sheetname=2,header=3,index_col=1)\n",
    "\n"
   ]
  },
  {
   "cell_type": "code",
   "execution_count": 118,
   "metadata": {
    "collapsed": false
   },
   "outputs": [],
   "source": [
    "alter=demo[demo.ix[:,'SATZART']==10]\n",
    "#alter.groupby(\"\")"
   ]
  },
  {
   "cell_type": "code",
   "execution_count": 113,
   "metadata": {
    "collapsed": false
   },
   "outputs": [],
   "source": [
    "qq=pd.concat([alter.ix[:,\"ALTER_1\"],alter.ix[:,\"ALTER_2\"]])"
   ]
  },
  {
   "cell_type": "code",
   "execution_count": 120,
   "metadata": {
    "collapsed": false
   },
   "outputs": [
    {
     "data": {
      "text/html": [
       "<div style=\"max-height:1000px;max-width:1500px;overflow:auto;\">\n",
       "<table border=\"1\" class=\"dataframe\">\n",
       "  <thead>\n",
       "    <tr style=\"text-align: right;\">\n",
       "      <th></th>\n",
       "      <th>SATZART</th>\n",
       "      <th>NAME</th>\n",
       "      <th>EWZ</th>\n",
       "      <th>EW_M</th>\n",
       "      <th>EW_W</th>\n",
       "      <th>EW_D</th>\n",
       "      <th>EW_A</th>\n",
       "      <th>ALTER_1</th>\n",
       "      <th>ALTER_2</th>\n",
       "      <th>ALTER_3</th>\n",
       "      <th>ALTER_4</th>\n",
       "      <th>ALTER_5</th>\n",
       "    </tr>\n",
       "    <tr>\n",
       "      <th>NAME</th>\n",
       "      <th></th>\n",
       "      <th></th>\n",
       "      <th></th>\n",
       "      <th></th>\n",
       "      <th></th>\n",
       "      <th></th>\n",
       "      <th></th>\n",
       "      <th></th>\n",
       "      <th></th>\n",
       "      <th></th>\n",
       "      <th></th>\n",
       "      <th></th>\n",
       "    </tr>\n",
       "  </thead>\n",
       "  <tbody>\n",
       "    <tr>\n",
       "      <th>Schleswig-Holstein</th>\n",
       "      <td> 10</td>\n",
       "      <td>  Schleswig-Holstein</td>\n",
       "      <td>  2800119</td>\n",
       "      <td> 1360530</td>\n",
       "      <td> 1439590</td>\n",
       "      <td>  2683670</td>\n",
       "      <td>  116450</td>\n",
       "      <td>  477010</td>\n",
       "      <td>  362390</td>\n",
       "      <td>  790060</td>\n",
       "      <td>  563490</td>\n",
       "      <td>  607170</td>\n",
       "    </tr>\n",
       "    <tr>\n",
       "      <th>Hamburg</th>\n",
       "      <td> 10</td>\n",
       "      <td>             Hamburg</td>\n",
       "      <td>  1706696</td>\n",
       "      <td>  826140</td>\n",
       "      <td>  880560</td>\n",
       "      <td>  1495810</td>\n",
       "      <td>  210890</td>\n",
       "      <td>  267800</td>\n",
       "      <td>  275420</td>\n",
       "      <td>  537600</td>\n",
       "      <td>  301700</td>\n",
       "      <td>  324180</td>\n",
       "    </tr>\n",
       "    <tr>\n",
       "      <th>Niedersachsen</th>\n",
       "      <td> 10</td>\n",
       "      <td>       Niedersachsen</td>\n",
       "      <td>  7777992</td>\n",
       "      <td> 3804410</td>\n",
       "      <td> 3973590</td>\n",
       "      <td>  7351250</td>\n",
       "      <td>  426750</td>\n",
       "      <td> 1356370</td>\n",
       "      <td> 1049040</td>\n",
       "      <td> 2188170</td>\n",
       "      <td> 1569480</td>\n",
       "      <td> 1614940</td>\n",
       "    </tr>\n",
       "    <tr>\n",
       "      <th>Bremen</th>\n",
       "      <td> 10</td>\n",
       "      <td>              Bremen</td>\n",
       "      <td>   650863</td>\n",
       "      <td>  316110</td>\n",
       "      <td>  334750</td>\n",
       "      <td>   580340</td>\n",
       "      <td>   70520</td>\n",
       "      <td>   98850</td>\n",
       "      <td>  105260</td>\n",
       "      <td>  181880</td>\n",
       "      <td>  126940</td>\n",
       "      <td>  137940</td>\n",
       "    </tr>\n",
       "    <tr>\n",
       "      <th>Nordrhein-Westfalen</th>\n",
       "      <td> 10</td>\n",
       "      <td> Nordrhein-Westfalen</td>\n",
       "      <td> 17538251</td>\n",
       "      <td> 8521230</td>\n",
       "      <td> 9017020</td>\n",
       "      <td> 15931170</td>\n",
       "      <td> 1607080</td>\n",
       "      <td> 2984650</td>\n",
       "      <td> 2481470</td>\n",
       "      <td> 4993250</td>\n",
       "      <td> 3525620</td>\n",
       "      <td> 3553260</td>\n",
       "    </tr>\n",
       "  </tbody>\n",
       "</table>\n",
       "</div>"
      ],
      "text/plain": [
       "                     SATZART                 NAME       EWZ     EW_M     EW_W  \\\n",
       "NAME                                                                            \n",
       "Schleswig-Holstein        10   Schleswig-Holstein   2800119  1360530  1439590   \n",
       "Hamburg                   10              Hamburg   1706696   826140   880560   \n",
       "Niedersachsen             10        Niedersachsen   7777992  3804410  3973590   \n",
       "Bremen                    10               Bremen    650863   316110   334750   \n",
       "Nordrhein-Westfalen       10  Nordrhein-Westfalen  17538251  8521230  9017020   \n",
       "\n",
       "                         EW_D     EW_A  ALTER_1  ALTER_2  ALTER_3  ALTER_4  \\\n",
       "NAME                                                                         \n",
       "Schleswig-Holstein    2683670   116450   477010   362390   790060   563490   \n",
       "Hamburg               1495810   210890   267800   275420   537600   301700   \n",
       "Niedersachsen         7351250   426750  1356370  1049040  2188170  1569480   \n",
       "Bremen                 580340    70520    98850   105260   181880   126940   \n",
       "Nordrhein-Westfalen  15931170  1607080  2984650  2481470  4993250  3525620   \n",
       "\n",
       "                     ALTER_5  \n",
       "NAME                          \n",
       "Schleswig-Holstein    607170  \n",
       "Hamburg               324180  \n",
       "Niedersachsen        1614940  \n",
       "Bremen                137940  \n",
       "Nordrhein-Westfalen  3553260  "
      ]
     },
     "execution_count": 120,
     "metadata": {},
     "output_type": "execute_result"
    }
   ],
   "source": [
    "z = demo[ demo['SATZART']==10 ]\n",
    "z.index = z.NAME\n",
    "z.head()"
   ]
  },
  {
   "cell_type": "markdown",
   "metadata": {},
   "source": [
    "demo\n"
   ]
  },
  {
   "cell_type": "code",
   "execution_count": 121,
   "metadata": {
    "collapsed": false
   },
   "outputs": [
    {
     "data": {
      "text/html": [
       "<div style=\"max-height:1000px;max-width:1500px;overflow:auto;\">\n",
       "<table border=\"1\" class=\"dataframe\">\n",
       "  <thead>\n",
       "    <tr style=\"text-align: right;\">\n",
       "      <th></th>\n",
       "      <th>SATZART</th>\n",
       "      <th>NAME</th>\n",
       "      <th>EWZ</th>\n",
       "      <th>EW_M</th>\n",
       "      <th>EW_W</th>\n",
       "      <th>EW_D</th>\n",
       "      <th>EW_A</th>\n",
       "      <th>ALTER_1</th>\n",
       "      <th>ALTER_2</th>\n",
       "      <th>ALTER_3</th>\n",
       "      <th>ALTER_4</th>\n",
       "      <th>ALTER_5</th>\n",
       "    </tr>\n",
       "    <tr>\n",
       "      <th>AGS</th>\n",
       "      <th></th>\n",
       "      <th></th>\n",
       "      <th></th>\n",
       "      <th></th>\n",
       "      <th></th>\n",
       "      <th></th>\n",
       "      <th></th>\n",
       "      <th></th>\n",
       "      <th></th>\n",
       "      <th></th>\n",
       "      <th></th>\n",
       "      <th></th>\n",
       "    </tr>\n",
       "  </thead>\n",
       "  <tbody>\n",
       "    <tr>\n",
       "      <th>1 </th>\n",
       "      <td> 10</td>\n",
       "      <td>     Schleswig-Holstein</td>\n",
       "      <td>  2800119</td>\n",
       "      <td> 1360530</td>\n",
       "      <td> 1439590</td>\n",
       "      <td>  2683670</td>\n",
       "      <td>  116450</td>\n",
       "      <td>  477010</td>\n",
       "      <td>  362390</td>\n",
       "      <td>  790060</td>\n",
       "      <td>  563490</td>\n",
       "      <td>  607170</td>\n",
       "    </tr>\n",
       "    <tr>\n",
       "      <th>2 </th>\n",
       "      <td> 10</td>\n",
       "      <td>                Hamburg</td>\n",
       "      <td>  1706696</td>\n",
       "      <td>  826140</td>\n",
       "      <td>  880560</td>\n",
       "      <td>  1495810</td>\n",
       "      <td>  210890</td>\n",
       "      <td>  267800</td>\n",
       "      <td>  275420</td>\n",
       "      <td>  537600</td>\n",
       "      <td>  301700</td>\n",
       "      <td>  324180</td>\n",
       "    </tr>\n",
       "    <tr>\n",
       "      <th>3 </th>\n",
       "      <td> 10</td>\n",
       "      <td>          Niedersachsen</td>\n",
       "      <td>  7777992</td>\n",
       "      <td> 3804410</td>\n",
       "      <td> 3973590</td>\n",
       "      <td>  7351250</td>\n",
       "      <td>  426750</td>\n",
       "      <td> 1356370</td>\n",
       "      <td> 1049040</td>\n",
       "      <td> 2188170</td>\n",
       "      <td> 1569480</td>\n",
       "      <td> 1614940</td>\n",
       "    </tr>\n",
       "    <tr>\n",
       "      <th>4 </th>\n",
       "      <td> 10</td>\n",
       "      <td>                 Bremen</td>\n",
       "      <td>   650863</td>\n",
       "      <td>  316110</td>\n",
       "      <td>  334750</td>\n",
       "      <td>   580340</td>\n",
       "      <td>   70520</td>\n",
       "      <td>   98850</td>\n",
       "      <td>  105260</td>\n",
       "      <td>  181880</td>\n",
       "      <td>  126940</td>\n",
       "      <td>  137940</td>\n",
       "    </tr>\n",
       "    <tr>\n",
       "      <th>5 </th>\n",
       "      <td> 10</td>\n",
       "      <td>    Nordrhein-Westfalen</td>\n",
       "      <td> 17538251</td>\n",
       "      <td> 8521230</td>\n",
       "      <td> 9017020</td>\n",
       "      <td> 15931170</td>\n",
       "      <td> 1607080</td>\n",
       "      <td> 2984650</td>\n",
       "      <td> 2481470</td>\n",
       "      <td> 4993250</td>\n",
       "      <td> 3525620</td>\n",
       "      <td> 3553260</td>\n",
       "    </tr>\n",
       "    <tr>\n",
       "      <th>6 </th>\n",
       "      <td> 10</td>\n",
       "      <td>                 Hessen</td>\n",
       "      <td>  5971816</td>\n",
       "      <td> 2914740</td>\n",
       "      <td> 3057080</td>\n",
       "      <td>  5311720</td>\n",
       "      <td>  660090</td>\n",
       "      <td> 1005660</td>\n",
       "      <td>  834310</td>\n",
       "      <td> 1746430</td>\n",
       "      <td> 1205160</td>\n",
       "      <td> 1180260</td>\n",
       "    </tr>\n",
       "    <tr>\n",
       "      <th>7 </th>\n",
       "      <td> 10</td>\n",
       "      <td>        Rheinland-Pfalz</td>\n",
       "      <td>  3989808</td>\n",
       "      <td> 1950420</td>\n",
       "      <td> 2039380</td>\n",
       "      <td>  3718250</td>\n",
       "      <td>  271560</td>\n",
       "      <td>  664260</td>\n",
       "      <td>  562230</td>\n",
       "      <td> 1109500</td>\n",
       "      <td>  841540</td>\n",
       "      <td>  812270</td>\n",
       "    </tr>\n",
       "    <tr>\n",
       "      <th>8 </th>\n",
       "      <td> 10</td>\n",
       "      <td>      Baden-Württemberg</td>\n",
       "      <td> 10486660</td>\n",
       "      <td> 5133480</td>\n",
       "      <td> 5353190</td>\n",
       "      <td>  9353030</td>\n",
       "      <td> 1133630</td>\n",
       "      <td> 1853540</td>\n",
       "      <td> 1547500</td>\n",
       "      <td> 2997710</td>\n",
       "      <td> 2053400</td>\n",
       "      <td> 2034520</td>\n",
       "    </tr>\n",
       "    <tr>\n",
       "      <th>9 </th>\n",
       "      <td> 10</td>\n",
       "      <td>                 Bayern</td>\n",
       "      <td> 12397614</td>\n",
       "      <td> 6062910</td>\n",
       "      <td> 6334700</td>\n",
       "      <td> 11383180</td>\n",
       "      <td> 1014430</td>\n",
       "      <td> 2112190</td>\n",
       "      <td> 1797760</td>\n",
       "      <td> 3613220</td>\n",
       "      <td> 2459360</td>\n",
       "      <td> 2415070</td>\n",
       "    </tr>\n",
       "    <tr>\n",
       "      <th>10</th>\n",
       "      <td> 10</td>\n",
       "      <td>               Saarland</td>\n",
       "      <td>   999623</td>\n",
       "      <td>  485380</td>\n",
       "      <td>  514240</td>\n",
       "      <td>   933360</td>\n",
       "      <td>   66270</td>\n",
       "      <td>  148980</td>\n",
       "      <td>  135930</td>\n",
       "      <td>  269470</td>\n",
       "      <td>  224680</td>\n",
       "      <td>  220560</td>\n",
       "    </tr>\n",
       "    <tr>\n",
       "      <th>11</th>\n",
       "      <td> 10</td>\n",
       "      <td>                 Berlin</td>\n",
       "      <td>  3292365</td>\n",
       "      <td> 1599840</td>\n",
       "      <td> 1692530</td>\n",
       "      <td>  2920090</td>\n",
       "      <td>  372280</td>\n",
       "      <td>  494150</td>\n",
       "      <td>  535310</td>\n",
       "      <td> 1004770</td>\n",
       "      <td>  624090</td>\n",
       "      <td>  634030</td>\n",
       "    </tr>\n",
       "    <tr>\n",
       "      <th>12</th>\n",
       "      <td> 10</td>\n",
       "      <td>            Brandenburg</td>\n",
       "      <td>  2455780</td>\n",
       "      <td> 1207850</td>\n",
       "      <td> 1247920</td>\n",
       "      <td>  2413580</td>\n",
       "      <td>   42190</td>\n",
       "      <td>  337040</td>\n",
       "      <td>  309010</td>\n",
       "      <td>  691800</td>\n",
       "      <td>  562490</td>\n",
       "      <td>  555430</td>\n",
       "    </tr>\n",
       "    <tr>\n",
       "      <th>13</th>\n",
       "      <td> 10</td>\n",
       "      <td> Mecklenburg-Vorpommern</td>\n",
       "      <td>  1609982</td>\n",
       "      <td>  793310</td>\n",
       "      <td>  816670</td>\n",
       "      <td>  1582250</td>\n",
       "      <td>   27730</td>\n",
       "      <td>  215300</td>\n",
       "      <td>  228240</td>\n",
       "      <td>  434590</td>\n",
       "      <td>  375550</td>\n",
       "      <td>  356300</td>\n",
       "    </tr>\n",
       "    <tr>\n",
       "      <th>14</th>\n",
       "      <td> 10</td>\n",
       "      <td>                Sachsen</td>\n",
       "      <td>  4056799</td>\n",
       "      <td> 1978040</td>\n",
       "      <td> 2078760</td>\n",
       "      <td>  3979760</td>\n",
       "      <td>   77030</td>\n",
       "      <td>  543160</td>\n",
       "      <td>  558590</td>\n",
       "      <td> 1077560</td>\n",
       "      <td>  870980</td>\n",
       "      <td> 1006500</td>\n",
       "    </tr>\n",
       "    <tr>\n",
       "      <th>15</th>\n",
       "      <td> 10</td>\n",
       "      <td>         Sachsen-Anhalt</td>\n",
       "      <td>  2287040</td>\n",
       "      <td> 1116850</td>\n",
       "      <td> 1170190</td>\n",
       "      <td>  2247810</td>\n",
       "      <td>   39230</td>\n",
       "      <td>  290700</td>\n",
       "      <td>  304600</td>\n",
       "      <td>  610810</td>\n",
       "      <td>  524660</td>\n",
       "      <td>  556270</td>\n",
       "    </tr>\n",
       "    <tr>\n",
       "      <th>16</th>\n",
       "      <td> 10</td>\n",
       "      <td>              Thüringen</td>\n",
       "      <td>  2188589</td>\n",
       "      <td> 1076410</td>\n",
       "      <td> 1112180</td>\n",
       "      <td>  2155360</td>\n",
       "      <td>   33230</td>\n",
       "      <td>  286960</td>\n",
       "      <td>  303570</td>\n",
       "      <td>  587720</td>\n",
       "      <td>  501650</td>\n",
       "      <td>  508700</td>\n",
       "    </tr>\n",
       "  </tbody>\n",
       "</table>\n",
       "</div>"
      ],
      "text/plain": [
       "     SATZART                    NAME       EWZ     EW_M     EW_W      EW_D  \\\n",
       "AGS                                                                          \n",
       "1         10      Schleswig-Holstein   2800119  1360530  1439590   2683670   \n",
       "2         10                 Hamburg   1706696   826140   880560   1495810   \n",
       "3         10           Niedersachsen   7777992  3804410  3973590   7351250   \n",
       "4         10                  Bremen    650863   316110   334750    580340   \n",
       "5         10     Nordrhein-Westfalen  17538251  8521230  9017020  15931170   \n",
       "6         10                  Hessen   5971816  2914740  3057080   5311720   \n",
       "7         10         Rheinland-Pfalz   3989808  1950420  2039380   3718250   \n",
       "8         10       Baden-Württemberg  10486660  5133480  5353190   9353030   \n",
       "9         10                  Bayern  12397614  6062910  6334700  11383180   \n",
       "10        10                Saarland    999623   485380   514240    933360   \n",
       "11        10                  Berlin   3292365  1599840  1692530   2920090   \n",
       "12        10             Brandenburg   2455780  1207850  1247920   2413580   \n",
       "13        10  Mecklenburg-Vorpommern   1609982   793310   816670   1582250   \n",
       "14        10                 Sachsen   4056799  1978040  2078760   3979760   \n",
       "15        10          Sachsen-Anhalt   2287040  1116850  1170190   2247810   \n",
       "16        10               Thüringen   2188589  1076410  1112180   2155360   \n",
       "\n",
       "        EW_A  ALTER_1  ALTER_2  ALTER_3  ALTER_4  ALTER_5  \n",
       "AGS                                                        \n",
       "1     116450   477010   362390   790060   563490   607170  \n",
       "2     210890   267800   275420   537600   301700   324180  \n",
       "3     426750  1356370  1049040  2188170  1569480  1614940  \n",
       "4      70520    98850   105260   181880   126940   137940  \n",
       "5    1607080  2984650  2481470  4993250  3525620  3553260  \n",
       "6     660090  1005660   834310  1746430  1205160  1180260  \n",
       "7     271560   664260   562230  1109500   841540   812270  \n",
       "8    1133630  1853540  1547500  2997710  2053400  2034520  \n",
       "9    1014430  2112190  1797760  3613220  2459360  2415070  \n",
       "10     66270   148980   135930   269470   224680   220560  \n",
       "11    372280   494150   535310  1004770   624090   634030  \n",
       "12     42190   337040   309010   691800   562490   555430  \n",
       "13     27730   215300   228240   434590   375550   356300  \n",
       "14     77030   543160   558590  1077560   870980  1006500  \n",
       "15     39230   290700   304600   610810   524660   556270  \n",
       "16     33230   286960   303570   587720   501650   508700  "
      ]
     },
     "execution_count": 121,
     "metadata": {},
     "output_type": "execute_result"
    }
   ],
   "source": [
    "alter"
   ]
  },
  {
   "cell_type": "code",
   "execution_count": null,
   "metadata": {
    "collapsed": true
   },
   "outputs": [],
   "source": []
  },
  {
   "cell_type": "code",
   "execution_count": null,
   "metadata": {
    "collapsed": true
   },
   "outputs": [],
   "source": []
  }
 ],
 "metadata": {
  "kernelspec": {
   "display_name": "Python 2",
   "language": "python",
   "name": "python2"
  },
  "language_info": {
   "codemirror_mode": {
    "name": "ipython",
    "version": 2
   },
   "file_extension": ".py",
   "mimetype": "text/x-python",
   "name": "python",
   "nbconvert_exporter": "python",
   "pygments_lexer": "ipython2",
   "version": "2.7.6"
  }
 },
 "nbformat": 4,
 "nbformat_minor": 0
}
