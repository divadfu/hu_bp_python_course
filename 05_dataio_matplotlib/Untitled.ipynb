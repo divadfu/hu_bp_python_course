{
 "cells": [
  {
   "cell_type": "code",
   "execution_count": 33,
   "metadata": {
    "collapsed": false
   },
   "outputs": [
    {
     "name": "stdout",
     "output_type": "stream",
     "text": [
      "[]\n"
     ]
    }
   ],
   "source": [
    "\n",
    "\n",
    "f1 = open('GPD1_seq.fasta','r')\n",
    "lines = f1.readlines()[1:]\n",
    "print(f1.readlines())"
   ]
  },
  {
   "cell_type": "code",
   "execution_count": 41,
   "metadata": {
    "collapsed": false
   },
   "outputs": [
    {
     "ename": "SyntaxError",
     "evalue": "invalid syntax (<ipython-input-41-3904b41b4b1b>, line 6)",
     "output_type": "error",
     "traceback": [
      "\u001b[0;36m  File \u001b[0;32m\"<ipython-input-41-3904b41b4b1b>\"\u001b[0;36m, line \u001b[0;32m6\u001b[0m\n\u001b[0;31m    for line in f\u001b[0m\n\u001b[0m                 ^\u001b[0m\n\u001b[0;31mSyntaxError\u001b[0m\u001b[0;31m:\u001b[0m invalid syntax\n"
     ]
    }
   ],
   "source": [
    "import cPickle as pickle\n",
    "\n",
    "with open('GPD1_seq.fasta', 'r') as f: # open file for reading\n",
    "    content = f.read()\n",
    "    \n",
    "for line in f\n",
    "    if not line.startswith('>'):\n",
    "        content2 = f.read()\n",
    "\n",
    "    \n",
    "print(content)\n",
    "    \n",
    "    "
   ]
  },
  {
   "cell_type": "code",
   "execution_count": 25,
   "metadata": {
    "collapsed": false
   },
   "outputs": [
    {
     "name": "stdout",
     "output_type": "stream",
     "text": [
      "<open file 'GPD1_seq.fasta', mode 'r' at 0x7f0684ef26f0>\n",
      "<open file 'GPD1_seq.fasta', mode 'r' at 0x7f0684ef26f0>\n",
      "<open file 'GPD1_seq.fasta', mode 'r' at 0x7f0684ef26f0>\n",
      "<open file 'GPD1_seq.fasta', mode 'r' at 0x7f0684ef26f0>\n",
      "<open file 'GPD1_seq.fasta', mode 'r' at 0x7f0684ef26f0>\n",
      "<open file 'GPD1_seq.fasta', mode 'r' at 0x7f0684ef26f0>\n",
      "<open file 'GPD1_seq.fasta', mode 'r' at 0x7f0684ef26f0>\n",
      "<open file 'GPD1_seq.fasta', mode 'r' at 0x7f0684ef26f0>\n",
      "<open file 'GPD1_seq.fasta', mode 'r' at 0x7f0684ef26f0>\n",
      "<open file 'GPD1_seq.fasta', mode 'r' at 0x7f0684ef26f0>\n",
      "<open file 'GPD1_seq.fasta', mode 'r' at 0x7f0684ef26f0>\n",
      "<open file 'GPD1_seq.fasta', mode 'r' at 0x7f0684ef26f0>\n",
      "<open file 'GPD1_seq.fasta', mode 'r' at 0x7f0684ef26f0>\n",
      "<open file 'GPD1_seq.fasta', mode 'r' at 0x7f0684ef26f0>\n",
      "<open file 'GPD1_seq.fasta', mode 'r' at 0x7f0684ef26f0>\n",
      "<open file 'GPD1_seq.fasta', mode 'r' at 0x7f0684ef26f0>\n",
      "<open file 'GPD1_seq.fasta', mode 'r' at 0x7f0684ef26f0>\n",
      "<open file 'GPD1_seq.fasta', mode 'r' at 0x7f0684ef26f0>\n",
      "<open file 'GPD1_seq.fasta', mode 'r' at 0x7f0684ef26f0>\n",
      "<open file 'GPD1_seq.fasta', mode 'r' at 0x7f0684ef26f0>\n",
      ">GPD1 YDL022W SGDID:S000002180, chrIV:411825..413000\n",
      "ATGTCTGCTGCTGCTGATAGATTAAACTTAACTTCCGGCCACTTGAATGCTGGTAGAAAG\n",
      "AGAAGTTCCTCTTCTGTTTCTTTGAAGGCTGCCGAAAAGCCTTTCAAGGTTACTGTGATT\n",
      "GGATCTGGTAACTGGGGTACTACTATTGCCAAGGTGGTTGCCGAAAATTGTAAGGGATAC\n",
      "CCAGAAGTTTTCGCTCCAATAGTACAAATGTGGGTGTTCGAAGAAGAGATCAATGGTGAA\n",
      "AAATTGACTGAAATCATAAATACTAGACATCAAAACGTGAAATACTTGCCTGGCATCACT\n",
      "CTACCCGACAATTTGGTTGCTAATCCAGACTTGATTGATTCAGTCAAGGATGTCGACATC\n",
      "ATCGTTTTCAACATTCCACATCAATTTTTGCCCCGTATCTGTAGCCAATTGAAAGGTCAT\n",
      "GTTGATTCACACGTCAGAGCTATCTCCTGTCTAAAGGGTTTTGAAGTTGGTGCTAAAGGT\n",
      "GTCCAATTGCTATCCTCTTACATCACTGAGGAACTAGGTATTCAATGTGGTGCTCTATCT\n",
      "GGTGCTAACATTGCCACCGAAGTCGCTCAAGAACACTGGTCTGAAACAACAGTTGCTTAC\n",
      "CACATTCCAAAGGATTTCAGAGGCGAGGGCAAGGACGTCGACCATAAGGTTCTAAAGGCC\n",
      "TTGTTCCACAGACCTTACTTCCACGTTAGTGTCATCGAAGATGTTGCTGGTATCTCCATC\n",
      "TGTGGTGCTTTGAAGAACGTTGTTGCCTTAGGTTGTGGTTTCGTCGAAGGTCTAGGCTGG\n",
      "GGTAACAACGCTTCTGCTGCCATCCAAAGAGTCGGTTTGGGTGAGATCATCAGATTCGGT\n",
      "CAAATGTTTTTCCCAGAATCTAGAGAAGAAACATACTACCAAGAGTCTGCTGGTGTTGCT\n",
      "GATTTGATCACCACCTGCGCTGGTGGTAGAAACGTCAAGGTTGCTAGGCTAATGGCTACT\n",
      "TCTGGTAAGGACGCCTGGGAATGTGAAAAGGAGTTGTTGAATGGCCAATCCGCTCAAGGT\n",
      "TTAATTACCTGCAAAGAAGTTCACGAATGGTTGGAAACATGTGGCTCTGTCGAAGACTTC\n",
      "CCATTATTTGAAGCCGTATACCAAATCGTTTACAACAACTACCCAATGAAGAACCTGCCG\n",
      "GACATGATTGAAGAATTAGATCTACATGAAGATTAG\n"
     ]
    }
   ],
   "source": [
    "import cPickle as pickle\n",
    "\n",
    "with open('GPD1_seq.fasta', 'r') as f: # open file for reading\n",
    "    next(f)\n",
    "    for line in f:\n",
    "        print f\n",
    "    \n",
    "print(content)"
   ]
  },
  {
   "cell_type": "code",
   "execution_count": 2,
   "metadata": {
    "collapsed": false
   },
   "outputs": [
    {
     "name": "stdout",
     "output_type": "stream",
     "text": [
      "ATGTCTGCTGCTGCTGATAGATTAAACTTAACTTCCGGCCACTTGAATGCTGGTAGAAAG\n",
      "AGAAGTTCCTCTTCTGTTTCTTTGAAGGCTGCCGAAAAGCCTTTCAAGGTTACTGTGATT\n",
      "GGATCTGGTAACTGGGGTACTACTATTGCCAAGGTGGTTGCCGAAAATTGTAAGGGATAC\n",
      "CCAGAAGTTTTCGCTCCAATAGTACAAATGTGGGTGTTCGAAGAAGAGATCAATGGTGAA\n",
      "AAATTGACTGAAATCATAAATACTAGACATCAAAACGTGAAATACTTGCCTGGCATCACT\n",
      "CTACCCGACAATTTGGTTGCTAATCCAGACTTGATTGATTCAGTCAAGGATGTCGACATC\n",
      "ATCGTTTTCAACATTCCACATCAATTTTTGCCCCGTATCTGTAGCCAATTGAAAGGTCAT\n",
      "GTTGATTCACACGTCAGAGCTATCTCCTGTCTAAAGGGTTTTGAAGTTGGTGCTAAAGGT\n",
      "GTCCAATTGCTATCCTCTTACATCACTGAGGAACTAGGTATTCAATGTGGTGCTCTATCT\n",
      "GGTGCTAACATTGCCACCGAAGTCGCTCAAGAACACTGGTCTGAAACAACAGTTGCTTAC\n",
      "CACATTCCAAAGGATTTCAGAGGCGAGGGCAAGGACGTCGACCATAAGGTTCTAAAGGCC\n",
      "TTGTTCCACAGACCTTACTTCCACGTTAGTGTCATCGAAGATGTTGCTGGTATCTCCATC\n",
      "TGTGGTGCTTTGAAGAACGTTGTTGCCTTAGGTTGTGGTTTCGTCGAAGGTCTAGGCTGG\n",
      "GGTAACAACGCTTCTGCTGCCATCCAAAGAGTCGGTTTGGGTGAGATCATCAGATTCGGT\n",
      "CAAATGTTTTTCCCAGAATCTAGAGAAGAAACATACTACCAAGAGTCTGCTGGTGTTGCT\n",
      "GATTTGATCACCACCTGCGCTGGTGGTAGAAACGTCAAGGTTGCTAGGCTAATGGCTACT\n",
      "TCTGGTAAGGACGCCTGGGAATGTGAAAAGGAGTTGTTGAATGGCCAATCCGCTCAAGGT\n",
      "TTAATTACCTGCAAAGAAGTTCACGAATGGTTGGAAACATGTGGCTCTGTCGAAGACTTC\n",
      "CCATTATTTGAAGCCGTATACCAAATCGTTTACAACAACTACCCAATGAAGAACCTGCCG\n",
      "GACATGATTGAAGAATTAGATCTACATGAAGATTAG\n"
     ]
    }
   ],
   "source": [
    "for line in open('GPD1_seq.fasta'):\n",
    "    li=line.strip()\n",
    "    if not li.startswith(\">\"):\n",
    "        print line.rstrip()"
   ]
  },
  {
   "cell_type": "code",
   "execution_count": 3,
   "metadata": {
    "collapsed": false
   },
   "outputs": [
    {
     "name": "stdout",
     "output_type": "stream",
     "text": [
      "GACATGATTGAAGAATTAGATCTACATGAAGATTAG\n"
     ]
    }
   ],
   "source": [
    "print line.rstrip()\n"
   ]
  },
  {
   "cell_type": "code",
   "execution_count": 13,
   "metadata": {
    "collapsed": false
   },
   "outputs": [
    {
     "ename": "SyntaxError",
     "evalue": "invalid syntax (<ipython-input-13-b276b714b292>, line 4)",
     "output_type": "error",
     "traceback": [
      "\u001b[0;36m  File \u001b[0;32m\"<ipython-input-13-b276b714b292>\"\u001b[0;36m, line \u001b[0;32m4\u001b[0m\n\u001b[0;31m    while(<>) {\u001b[0m\n\u001b[0m           ^\u001b[0m\n\u001b[0;31mSyntaxError\u001b[0m\u001b[0;31m:\u001b[0m invalid syntax\n"
     ]
    }
   ],
   "source": [
    "with open('GPD1_seq.fasta', 'r') as f:\n",
    "    #lines = f.read()\n",
    "#print lines\n",
    "    while(<>) {\n",
    "        next if /^>/;\n",
    "            lines = f.read()\n",
    "}\n",
    "\n",
    "print lines\n",
    "\n",
    "# iterate over all lines in the file\n",
    "for line in lines:\n",
    "    if line.startswith('<'): # skip comments\n",
    "        continue\n",
    "print lines"
   ]
  },
  {
   "cell_type": "code",
   "execution_count": null,
   "metadata": {
    "collapsed": true
   },
   "outputs": [],
   "source": []
  }
 ],
 "metadata": {
  "kernelspec": {
   "display_name": "Python 2",
   "language": "python",
   "name": "python2"
  },
  "language_info": {
   "codemirror_mode": {
    "name": "ipython",
    "version": 2
   },
   "file_extension": ".py",
   "mimetype": "text/x-python",
   "name": "python",
   "nbconvert_exporter": "python",
   "pygments_lexer": "ipython2",
   "version": "2.7.6"
  }
 },
 "nbformat": 4,
 "nbformat_minor": 0
}
